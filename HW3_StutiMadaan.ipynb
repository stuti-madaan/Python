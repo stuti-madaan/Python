{
 "cells": [
  {
   "cell_type": "code",
   "execution_count": 44,
   "metadata": {
    "collapsed": false
   },
   "outputs": [
    {
     "name": "stdout",
     "output_type": "stream",
     "text": [
      "Populating the interactive namespace from numpy and matplotlib\n"
     ]
    }
   ],
   "source": [
    "from pandas import Series,DataFrame\n",
    "import pandas as pd\n",
    "%pylab inline "
   ]
  },
  {
   "cell_type": "code",
   "execution_count": 45,
   "metadata": {
    "collapsed": true
   },
   "outputs": [],
   "source": [
    "import warnings\n",
    "warnings.simplefilter(action = \"ignore\", category = FutureWarning)"
   ]
  },
  {
   "cell_type": "markdown",
   "metadata": {},
   "source": [
    "### Question 1"
   ]
  },
  {
   "cell_type": "markdown",
   "metadata": {},
   "source": [
    "** Read in the files gold.txt and labels.txt. **\n",
    "\n",
    "**The gold DataFrame should have columns url and category, while the labels DataFrame should have columns turk, url and category. You will have to pick the right separator. **"
   ]
  },
  {
   "cell_type": "markdown",
   "metadata": {},
   "source": [
    "**Approach:**\n",
    "While reading the 'gold.txt' and 'labels.txt' , I am providing 'whitespace' as a delimiter and giving names for the corresponding columns of the two dataframes."
   ]
  },
  {
   "cell_type": "code",
   "execution_count": 46,
   "metadata": {
    "collapsed": false
   },
   "outputs": [
    {
     "name": "stdout",
     "output_type": "stream",
     "text": [
      "                         url category\n",
      "0  http://0800-horoscope.com        G\n",
      "1         http://18games.net        X\n",
      "2       http://1pixelout.net        G\n",
      "             turk            url category\n",
      "0  A1OT3A29R9N1DG  http://000.cc        P\n",
      "1  A1PXXEOGQ76RNJ  http://000.cc        G\n",
      "2  A1PXXEOGQ76RNJ  http://000.cc        G\n"
     ]
    }
   ],
   "source": [
    "#delimiter = whitespace \n",
    "gold = pd.read_csv(\"E:\\DataAnalytics_programming\\hw3\\gold.txt\",delim_whitespace=True,names=['url','category'])\n",
    "labels = pd.read_csv(\"E:\\DataAnalytics_programming\\hw3\\labels.txt\",delim_whitespace=True,names=['turk','url','category'])\n",
    "\n",
    "#printing first three rows\n",
    "print gold[:3]\n",
    "print labels[:3]"
   ]
  },
  {
   "cell_type": "markdown",
   "metadata": {},
   "source": [
    "                        url category\n",
    "                        \n",
    "0  http://0800-horoscope.com        G\n",
    "\n",
    "1         http://18games.net        X\n",
    "\n",
    "2       http://1pixelout.net        G\n",
    "\n",
    "             turk            url category\n",
    "0  A1OT3A29R9N1DG  http://000.cc        P\n",
    "\n",
    "1  A1PXXEOGQ76RNJ  http://000.cc        G\n",
    "\n",
    "2  A1PXXEOGQ76RNJ  http://000.cc        G"
   ]
  },
  {
   "cell_type": "markdown",
   "metadata": {},
   "source": [
    "### Question 2\n",
    "**Split into two DataFrames**\n",
    "\n",
    "**Split the labels DataFrame into two: labels on gold and labels unknown, the former containing all rows where the url is present in the gold set, and the latter one contains all remaining rows of labels.**"
   ]
  },
  {
   "cell_type": "markdown",
   "metadata": {},
   "source": [
    "**Approach:**\n",
    "Making a DataFrame 'labels_on_gold' where the url's from 'labels' are in 'gold' dataset. Making the dataframe 'labels_unknown' with all the 'urls' not present in 'gold' dataframe. "
   ]
  },
  {
   "cell_type": "code",
   "execution_count": 47,
   "metadata": {
    "collapsed": false
   },
   "outputs": [],
   "source": [
    "labels_on_gold=labels[labels['url'].isin(list(gold['url'].values))]  # selecting the indices from 'labels' which have their URLs in the list of indices from 'gold'\n",
    "labels_unknown=labels[~(labels['url'].isin(list(gold['url'].values)))] # selecting the indices from 'labels' which do not have their URLs in the list of indices from 'gold'"
   ]
  },
  {
   "cell_type": "code",
   "execution_count": 48,
   "metadata": {
    "collapsed": false
   },
   "outputs": [
    {
     "name": "stdout",
     "output_type": "stream",
     "text": [
      "92721\n",
      "3324\n",
      "89397\n"
     ]
    }
   ],
   "source": [
    "print labels.shape[0]\n",
    "print labels_on_gold.shape[0]\n",
    "print labels_unknown.shape[0]"
   ]
  },
  {
   "cell_type": "markdown",
   "metadata": {},
   "source": [
    "92721\n",
    "\n",
    "3324\n",
    "\n",
    "89397"
   ]
  },
  {
   "cell_type": "markdown",
   "metadata": {},
   "source": [
    "### Question 3\n",
    "**Compute accuracies of turks **\n",
    "\n",
    "**Create a rater goodness DataFrame that is indexed by turk, and has two columns: the number of ratings, and the average correctness of ratings for each turk (both on gold set urls).**"
   ]
  },
  {
   "cell_type": "markdown",
   "metadata": {},
   "source": [
    "**Approach:**\n",
    "I created a rater_goodness dataframe with column name ='turk' and column values as the count of 'turk' from labels_on_gold. This is the total number of ratings by the turk. Indices for rater_goodness will be the same as indices in labels_on_gold. Next, I created a flag that will take on the value 1 for every match in category with 'gold' dataframe and 0 for a mismatch in category.\n",
    "Using groupby, I am taking a sum of this flag for each turk, which will tell me the number of correct ratings by each turk. Avg_correctness is then calculated by dividing the correct ratings by total number of ratings for every turk. Lastly, I am renaming the columns."
   ]
  },
  {
   "cell_type": "code",
   "execution_count": 49,
   "metadata": {
    "collapsed": false
   },
   "outputs": [
    {
     "data": {
      "text/html": [
       "<div>\n",
       "<table border=\"1\" class=\"dataframe\">\n",
       "  <thead>\n",
       "    <tr style=\"text-align: right;\">\n",
       "      <th></th>\n",
       "      <th>number_ratings</th>\n",
       "      <th>avg_correctness</th>\n",
       "    </tr>\n",
       "  </thead>\n",
       "  <tbody>\n",
       "    <tr>\n",
       "      <th>A31OCN4MNHUQ6W</th>\n",
       "      <td>184</td>\n",
       "      <td>0.777174</td>\n",
       "    </tr>\n",
       "    <tr>\n",
       "      <th>A153PKAL7OAY36</th>\n",
       "      <td>148</td>\n",
       "      <td>0.722973</td>\n",
       "    </tr>\n",
       "    <tr>\n",
       "      <th>A2BTR0GQ5B5JI6</th>\n",
       "      <td>126</td>\n",
       "      <td>0.523810</td>\n",
       "    </tr>\n",
       "    <tr>\n",
       "      <th>ATVALOQVDCMZW</th>\n",
       "      <td>103</td>\n",
       "      <td>0.854369</td>\n",
       "    </tr>\n",
       "    <tr>\n",
       "      <th>AZSDW7JJL5VA7</th>\n",
       "      <td>100</td>\n",
       "      <td>0.680000</td>\n",
       "    </tr>\n",
       "    <tr>\n",
       "      <th>A3GE97GX3OXJTW</th>\n",
       "      <td>85</td>\n",
       "      <td>0.658824</td>\n",
       "    </tr>\n",
       "  </tbody>\n",
       "</table>\n",
       "</div>"
      ],
      "text/plain": [
       "                number_ratings  avg_correctness\n",
       "A31OCN4MNHUQ6W             184         0.777174\n",
       "A153PKAL7OAY36             148         0.722973\n",
       "A2BTR0GQ5B5JI6             126         0.523810\n",
       "ATVALOQVDCMZW              103         0.854369\n",
       "AZSDW7JJL5VA7              100         0.680000\n",
       "A3GE97GX3OXJTW              85         0.658824"
      ]
     },
     "execution_count": 49,
     "metadata": {},
     "output_type": "execute_result"
    }
   ],
   "source": [
    "rater_goodness=DataFrame(labels_on_gold['turk'].value_counts())\n",
    "merged = pd.merge(labels_on_gold,gold, left_on= \"url\",right_on=\"url\")\n",
    "\n",
    "#creating a flag for every match in gold dataset\n",
    "merged.ix[merged['category_x']== merged['category_y'],'correct']=1\n",
    "merged.ix[merged['category_x']!= merged['category_y'],'correct']=0\n",
    "\n",
    "#sum of all the flags in merged by turk.This gives the total correct ratings by a turk\n",
    "correctness = merged.groupby('turk')[['correct']].sum()\n",
    "\n",
    "#finding the ratio of correct ratings by total ratings for every turk\n",
    "rater_goodness['avg_correctness'] = (correctness.T/rater_goodness['turk']).T\n",
    "\n",
    "#renaming the column with total ratings by  a turk to number_ratings\n",
    "rater_goodness=rater_goodness.rename(columns={\"turk\": \"number_ratings\"})\n",
    "rater_goodness[:6]"
   ]
  },
  {
   "cell_type": "markdown",
   "metadata": {},
   "source": [
    " \tnumber_ratings \tavg_correctness\n",
    "    \n",
    "A31OCN4MNHUQ6W \t184 \t0.777174\n",
    "\n",
    "A153PKAL7OAY36 \t148 \t0.722973\n",
    "\n",
    "A2BTR0GQ5B5JI6 \t126 \t0.523810\n",
    "\n",
    "ATVALOQVDCMZW \t103 \t0.854369\n",
    "\n",
    "AZSDW7JJL5VA7 \t100 \t0.680000\n",
    "\n",
    "A3GE97GX3OXJTW \t85 \t0.658824"
   ]
  },
  {
   "cell_type": "markdown",
   "metadata": {},
   "source": [
    "### Question 4\n",
    "**Odds ratios**\n",
    "\n",
    "**If someone is correct p fraction of the time, the odds of success are defined as:**\n",
    "\n",
    "**odds =p/(1-p)**\n",
    "\n",
    "**Attach a column called odds to the rater goodness DataFrame,using the average correctness of the turk as his or her p.**"
   ]
  },
  {
   "cell_type": "markdown",
   "metadata": {},
   "source": [
    "**Approach:**\n",
    "To calculate the Odds , I am dividing the avg_correctness by (1.001-avg_correctness) for every row of rater_goodness. I am using 1.001 to treat the infinity values that might occur. I need to include infinity 'odds'  while comparing odds for turks."
   ]
  },
  {
   "cell_type": "code",
   "execution_count": 50,
   "metadata": {
    "collapsed": false
   },
   "outputs": [
    {
     "data": {
      "text/html": [
       "<div>\n",
       "<table border=\"1\" class=\"dataframe\">\n",
       "  <thead>\n",
       "    <tr style=\"text-align: right;\">\n",
       "      <th></th>\n",
       "      <th>number_ratings</th>\n",
       "      <th>avg_correctness</th>\n",
       "      <th>odds</th>\n",
       "    </tr>\n",
       "  </thead>\n",
       "  <tbody>\n",
       "    <tr>\n",
       "      <th>A31OCN4MNHUQ6W</th>\n",
       "      <td>184</td>\n",
       "      <td>0.777174</td>\n",
       "      <td>3.472222</td>\n",
       "    </tr>\n",
       "    <tr>\n",
       "      <th>A153PKAL7OAY36</th>\n",
       "      <td>148</td>\n",
       "      <td>0.722973</td>\n",
       "      <td>2.600369</td>\n",
       "    </tr>\n",
       "    <tr>\n",
       "      <th>A2BTR0GQ5B5JI6</th>\n",
       "      <td>126</td>\n",
       "      <td>0.523810</td>\n",
       "      <td>1.097695</td>\n",
       "    </tr>\n",
       "    <tr>\n",
       "      <th>ATVALOQVDCMZW</th>\n",
       "      <td>103</td>\n",
       "      <td>0.854369</td>\n",
       "      <td>5.826657</td>\n",
       "    </tr>\n",
       "    <tr>\n",
       "      <th>AZSDW7JJL5VA7</th>\n",
       "      <td>100</td>\n",
       "      <td>0.680000</td>\n",
       "      <td>2.118380</td>\n",
       "    </tr>\n",
       "    <tr>\n",
       "      <th>A3GE97GX3OXJTW</th>\n",
       "      <td>85</td>\n",
       "      <td>0.658824</td>\n",
       "      <td>1.925391</td>\n",
       "    </tr>\n",
       "  </tbody>\n",
       "</table>\n",
       "</div>"
      ],
      "text/plain": [
       "                number_ratings  avg_correctness      odds\n",
       "A31OCN4MNHUQ6W             184         0.777174  3.472222\n",
       "A153PKAL7OAY36             148         0.722973  2.600369\n",
       "A2BTR0GQ5B5JI6             126         0.523810  1.097695\n",
       "ATVALOQVDCMZW              103         0.854369  5.826657\n",
       "AZSDW7JJL5VA7              100         0.680000  2.118380\n",
       "A3GE97GX3OXJTW              85         0.658824  1.925391"
      ]
     },
     "execution_count": 50,
     "metadata": {},
     "output_type": "execute_result"
    }
   ],
   "source": [
    "rater_goodness['odds'] = rater_goodness['avg_correctness']/(1.001-rater_goodness['avg_correctness'])\n",
    "rater_goodness[:6]"
   ]
  },
  {
   "cell_type": "markdown",
   "metadata": {},
   "source": [
    "                number_ratings avg_correctness odds\n",
    "    \n",
    "A31OCN4MNHUQ6W 184 0.777174 3.472222\n",
    "\n",
    "A153PKAL7OAY36 148 0.722973 2.600369\n",
    "\n",
    "A2BTR0GQ5B5JI6 126 0.523810 1.097695\n",
    "\n",
    "ATVALOQVDCMZW 103 0.854369 5.826657\n",
    "\n",
    "AZSDW7JJL5VA7 100 0.680000 2.118380\n",
    "\n",
    "A3GE97GX3OXJTW 85 0.658824 1.925391"
   ]
  },
  {
   "cell_type": "markdown",
   "metadata": {},
   "source": [
    "### Question 5\n",
    "\n",
    "**Most accurate turks**\n",
    "\n",
    "**List the top 10 most accurate turks who have rated at least 20 gold set URLs. **"
   ]
  },
  {
   "cell_type": "markdown",
   "metadata": {},
   "source": [
    "**Approach:**\n",
    "From the rater_goodness created above, I am creating a DataFrame where number_ratings of a turk>=20.\n",
    "Sorting this list by avg_corrctness (descending order), I picked up top 10 entries, extracted their indices and printed the list of indices. Index, here, is the 'turk'. "
   ]
  },
  {
   "cell_type": "code",
   "execution_count": 51,
   "metadata": {
    "collapsed": false
   },
   "outputs": [
    {
     "data": {
      "text/html": [
       "<div>\n",
       "<table border=\"1\" class=\"dataframe\">\n",
       "  <thead>\n",
       "    <tr style=\"text-align: right;\">\n",
       "      <th></th>\n",
       "      <th>number_ratings</th>\n",
       "      <th>avg_correctness</th>\n",
       "      <th>odds</th>\n",
       "    </tr>\n",
       "  </thead>\n",
       "  <tbody>\n",
       "    <tr>\n",
       "      <th>A2U0R4X38GUKZE</th>\n",
       "      <td>20</td>\n",
       "      <td>0.950000</td>\n",
       "      <td>18.627451</td>\n",
       "    </tr>\n",
       "    <tr>\n",
       "      <th>A22C0PJUBFJTI0</th>\n",
       "      <td>36</td>\n",
       "      <td>0.916667</td>\n",
       "      <td>10.869565</td>\n",
       "    </tr>\n",
       "    <tr>\n",
       "      <th>A23YQUBXZPKILZ</th>\n",
       "      <td>24</td>\n",
       "      <td>0.875000</td>\n",
       "      <td>6.944444</td>\n",
       "    </tr>\n",
       "    <tr>\n",
       "      <th>ATVALOQVDCMZW</th>\n",
       "      <td>103</td>\n",
       "      <td>0.854369</td>\n",
       "      <td>5.826657</td>\n",
       "    </tr>\n",
       "    <tr>\n",
       "      <th>A1HIXWH4OXT8S4</th>\n",
       "      <td>40</td>\n",
       "      <td>0.825000</td>\n",
       "      <td>4.687500</td>\n",
       "    </tr>\n",
       "    <tr>\n",
       "      <th>A3220HG1O83HQ4</th>\n",
       "      <td>22</td>\n",
       "      <td>0.818182</td>\n",
       "      <td>4.475385</td>\n",
       "    </tr>\n",
       "    <tr>\n",
       "      <th>A20PWAB7G3HDHU</th>\n",
       "      <td>20</td>\n",
       "      <td>0.800000</td>\n",
       "      <td>3.980100</td>\n",
       "    </tr>\n",
       "    <tr>\n",
       "      <th>A32W20KGQXS0LL</th>\n",
       "      <td>25</td>\n",
       "      <td>0.800000</td>\n",
       "      <td>3.980100</td>\n",
       "    </tr>\n",
       "    <tr>\n",
       "      <th>AJSJVK40F5HM6</th>\n",
       "      <td>28</td>\n",
       "      <td>0.785714</td>\n",
       "      <td>3.649635</td>\n",
       "    </tr>\n",
       "    <tr>\n",
       "      <th>A31OCN4MNHUQ6W</th>\n",
       "      <td>184</td>\n",
       "      <td>0.777174</td>\n",
       "      <td>3.472222</td>\n",
       "    </tr>\n",
       "  </tbody>\n",
       "</table>\n",
       "</div>"
      ],
      "text/plain": [
       "                number_ratings  avg_correctness       odds\n",
       "A2U0R4X38GUKZE              20         0.950000  18.627451\n",
       "A22C0PJUBFJTI0              36         0.916667  10.869565\n",
       "A23YQUBXZPKILZ              24         0.875000   6.944444\n",
       "ATVALOQVDCMZW              103         0.854369   5.826657\n",
       "A1HIXWH4OXT8S4              40         0.825000   4.687500\n",
       "A3220HG1O83HQ4              22         0.818182   4.475385\n",
       "A20PWAB7G3HDHU              20         0.800000   3.980100\n",
       "A32W20KGQXS0LL              25         0.800000   3.980100\n",
       "AJSJVK40F5HM6               28         0.785714   3.649635\n",
       "A31OCN4MNHUQ6W             184         0.777174   3.472222"
      ]
     },
     "execution_count": 51,
     "metadata": {},
     "output_type": "execute_result"
    }
   ],
   "source": [
    "#creating a mask and extracting turks with atleast 20 ratings\n",
    "atleast20_ratings = rater_goodness.ix[rater_goodness['number_ratings'] >=20]\n",
    "\n",
    "#printing the turks with top 10 accuracy\n",
    "atleast20_ratings.sort_values(by='avg_correctness',ascending=False)[:10]"
   ]
  },
  {
   "cell_type": "markdown",
   "metadata": {},
   "source": [
    " \tnumber_ratings \tavg_correctness \todds\n",
    "    \n",
    "A2U0R4X38GUKZE \t20 \t0.950000 \t18.627451\n",
    "\n",
    "A22C0PJUBFJTI0 \t36 \t0.916667 \t10.869565\n",
    "\n",
    "A23YQUBXZPKILZ \t24 \t0.875000 \t6.944444\n",
    "\n",
    "ATVALOQVDCMZW \t103 \t0.854369 \t5.826657\n",
    "\n",
    "A1HIXWH4OXT8S4 \t40 \t0.825000 \t4.687500\n",
    "\n",
    "A3220HG1O83HQ4 \t22 \t0.818182 \t4.475385\n",
    "\n",
    "A20PWAB7G3HDHU \t20 \t0.800000 \t3.980100\n",
    "\n",
    "A32W20KGQXS0LL \t25 \t0.800000 \t3.980100\n",
    "\n",
    "AJSJVK40F5HM6 \t28 \t0.785714 \t3.649635\n",
    "\n",
    "A31OCN4MNHUQ6W \t184 \t0.777174 \t3.472222"
   ]
  },
  {
   "cell_type": "markdown",
   "metadata": {},
   "source": [
    "### Question 6\n",
    "\n",
    "** Rating counts versus accuracy**\n",
    "\n",
    "**One may imagine that a committed and accurate turk will rate lots of URLs.On the other hand, perhaps it is only the spammers who have the time to rate lots of URLs.**\n",
    "\n",
    "**Is number of ratings by a turker on gold set URLs related to his or her accuracy? There's no fixed answer; just try to show some evidence for your answer. **"
   ]
  },
  {
   "cell_type": "markdown",
   "metadata": {},
   "source": [
    "**Approach:**\n",
    "For this problem, first, I plotted a scatter plot to observe if there are any patterns between number_ratings and avg_correctness. As can be seen in the chart below, most of the points seem to be cluttered around medium avg_correctness and low number of ratings. So, I did not identify any specific pattern.\n",
    "Next, I fit a linear regression line and plotted the same. The slope of the line is close to zero resulting in a horizontal line. This, again shows there is no deterministic relation between the two variables.\n",
    "Lastly, I performed a Standard and Pearson correlation, the values for which are 0.04 and -0.08, respectively. This shows that the correlation is low between two variables and close to zero."
   ]
  },
  {
   "cell_type": "code",
   "execution_count": 52,
   "metadata": {
    "collapsed": false
   },
   "outputs": [
    {
     "data": {
      "text/plain": [
       "<matplotlib.text.Text at 0xe612a58>"
      ]
     },
     "execution_count": 52,
     "metadata": {},
     "output_type": "execute_result"
    },
    {
     "data": {
      "image/png": "[encoded data removed]",
      "text/plain": [
       "<matplotlib.figure.Figure at 0x107015f8>"
      ]
     },
     "metadata": {},
     "output_type": "display_data"
    }
   ],
   "source": [
    "## plot a chart\n",
    "plot(rater_goodness['avg_correctness'], rater_goodness['number_ratings'],linestyle='None',marker='o',color='blue')\n",
    "xlabel('avg_correctnedd')\n",
    "ylabel('number_ratings')\n",
    "title('counts v/s accuracy')\n",
    "\n",
    "## fit a linear model \n",
    "result = pd.ols(x=rater_goodness['avg_correctness'], y=rater_goodness['number_ratings'])\n",
    "prediction = result.beta['intercept'] + rater_goodness['avg_correctness']*result.beta['x']\n",
    "pred = Series(prediction.values, index=rater_goodness['avg_correctness'].sort_values(ascending=True))\n",
    "pred.plot(label='Regression', linewidth=2,color='red')\n",
    "legend(numpoints=1, loc='best')\n",
    "xlabel('Accuracy')\n",
    "ylabel('Counts')"
   ]
  },
  {
   "cell_type": "code",
   "execution_count": 53,
   "metadata": {
    "collapsed": false
   },
   "outputs": [
    {
     "name": "stdout",
     "output_type": "stream",
     "text": [
      "spearman correlation:  -0.0819193561196\n",
      "standard correlation:  0.0452923828048\n"
     ]
    }
   ],
   "source": [
    "## show pearson and standard correlation\n",
    "print 'spearman correlation: ',rater_goodness['number_ratings'].corr(rater_goodness['avg_correctness'], method='spearman')\n",
    "print 'standard correlation: ',rater_goodness['number_ratings'].corr(rater_goodness['avg_correctness'])"
   ]
  },
  {
   "cell_type": "markdown",
   "metadata": {},
   "source": [
    "spearman correlation:  -0.0819193561196\n",
    "\n",
    "standard correlation:  0.0452923828048"
   ]
  },
  {
   "cell_type": "markdown",
   "metadata": {},
   "source": [
    "### Question 7\n",
    "**Overall predicted odds**\n",
    "\n",
    "**Consider each url u that is not in the gold set, and each category c. For the pair (u; c), calculate the product of odds of all turks who (a) rated url u as category c, and (b) have rated more gold set urls than 75% of all turks. We shall call such products of odds the overall odds henceforth.**"
   ]
  },
  {
   "cell_type": "markdown",
   "metadata": {},
   "source": [
    "**Approach:**\n",
    "I got a dataframe with turks having greater than 75 percentile number of ratings using the quantile() function on number_ratings from rater_goodness. Next, I created a column called 'turk' in this dataset using its own index. This was needed in order to merge this using 'turk' as the common key.\n",
    "Next, I created a copy of labels_unknown and kept only the rows where turk is in the list of turks  in 'turks_75'. \n",
    "Then, I merged the two datasets on 'turk'.\n",
    "Lastly , I created a pivot table that would calculate the product of odds of all turks related to a particular url and category replacing NAs by 0. I have converted the final pivot table into a DataFrame."
   ]
  },
  {
   "cell_type": "code",
   "execution_count": 54,
   "metadata": {
    "collapsed": false
   },
   "outputs": [
    {
     "data": {
      "text/html": [
       "<div>\n",
       "<table border=\"1\" class=\"dataframe\">\n",
       "  <thead>\n",
       "    <tr style=\"text-align: right;\">\n",
       "      <th>category</th>\n",
       "      <th>G</th>\n",
       "      <th>P</th>\n",
       "      <th>R</th>\n",
       "      <th>X</th>\n",
       "    </tr>\n",
       "    <tr>\n",
       "      <th>url</th>\n",
       "      <th></th>\n",
       "      <th></th>\n",
       "      <th></th>\n",
       "      <th></th>\n",
       "    </tr>\n",
       "  </thead>\n",
       "  <tbody>\n",
       "    <tr>\n",
       "      <th>http://0-101.net</th>\n",
       "      <td>2.155963</td>\n",
       "      <td>0.000000</td>\n",
       "      <td>0.0</td>\n",
       "      <td>0.0</td>\n",
       "    </tr>\n",
       "    <tr>\n",
       "      <th>http://000.cc</th>\n",
       "      <td>1.460583</td>\n",
       "      <td>0.000000</td>\n",
       "      <td>0.0</td>\n",
       "      <td>0.0</td>\n",
       "    </tr>\n",
       "    <tr>\n",
       "      <th>http://0000.jp</th>\n",
       "      <td>14.488244</td>\n",
       "      <td>0.000000</td>\n",
       "      <td>0.0</td>\n",
       "      <td>0.0</td>\n",
       "    </tr>\n",
       "    <tr>\n",
       "      <th>http://000relationships.com</th>\n",
       "      <td>5.681060</td>\n",
       "      <td>1.851852</td>\n",
       "      <td>0.0</td>\n",
       "      <td>0.0</td>\n",
       "    </tr>\n",
       "    <tr>\n",
       "      <th>http://000vitamins.com</th>\n",
       "      <td>3.784982</td>\n",
       "      <td>0.000000</td>\n",
       "      <td>0.0</td>\n",
       "      <td>0.0</td>\n",
       "    </tr>\n",
       "    <tr>\n",
       "      <th>http://000webhost.com</th>\n",
       "      <td>11.159502</td>\n",
       "      <td>0.000000</td>\n",
       "      <td>0.0</td>\n",
       "      <td>0.0</td>\n",
       "    </tr>\n",
       "  </tbody>\n",
       "</table>\n",
       "</div>"
      ],
      "text/plain": [
       "category                             G         P    R    X\n",
       "url                                                       \n",
       "http://0-101.net              2.155963  0.000000  0.0  0.0\n",
       "http://000.cc                 1.460583  0.000000  0.0  0.0\n",
       "http://0000.jp               14.488244  0.000000  0.0  0.0\n",
       "http://000relationships.com   5.681060  1.851852  0.0  0.0\n",
       "http://000vitamins.com        3.784982  0.000000  0.0  0.0\n",
       "http://000webhost.com        11.159502  0.000000  0.0  0.0"
      ]
     },
     "execution_count": 54,
     "metadata": {},
     "output_type": "execute_result"
    }
   ],
   "source": [
    "#finding 75th percentile\n",
    "turks_75=rater_goodness[rater_goodness['number_ratings']>rater_goodness['number_ratings'].quantile(0.75)]\n",
    "turks_75.loc[:,'turk']=turks_75.index.values\n",
    "\n",
    "labels_unknown_75=labels_unknown.copy()\n",
    "labels_unknown_75=labels_unknown_75[labels_unknown_75.loc[:,'turk'].isin(list(turks_75.index.values))]\n",
    "\n",
    "#merge the two datasets #\n",
    "merged_75 = pd.merge(labels_unknown_75, turks_75, left_on='turk',right_on='turk')\n",
    "\n",
    "pivot_75 = DataFrame(pd.pivot_table(merged_75,index='url',columns='category',values= 'odds',aggfunc= numpy.prod,fill_value=0))\n",
    "pivot_75[:6]"
   ]
  },
  {
   "cell_type": "markdown",
   "metadata": {},
   "source": [
    "        category \tG \tP \tR \tX\n",
    "url\n",
    "\n",
    "http://0-101.net \t2.155963 \t0.000000 \t0.0 \t0.0\n",
    "\n",
    "http://000.cc \t1.460583 \t0.000000 \t0.0 \t0.0\n",
    "\n",
    "http://0000.jp \t14.488244 \t0.000000 \t0.0 \t0.0\n",
    "\n",
    "http://000relationships.com \t5.681060 \t1.851852 \t0.0 \t0.0\n",
    "\n",
    "http://000vitamins.com \t3.784982 \t0.000000 \t0.0 \t0.0\n",
    "\n",
    "http://000webhost.com \t11.159502 \t0.000000 \t0.0 \t0.0"
   ]
  },
  {
   "cell_type": "markdown",
   "metadata": {},
   "source": [
    "### Question 8 \n",
    "**Predicted categories**\n",
    "\n",
    "**Create a DataFrame (called result 75, whose index is URLs not in the gold set, and with two columns called top category and top odds. The top category should be the category with the highest overall odds for that url, and the top odds should be the overall odds for that top category. These are our predictions, and the confidence we have in them (higher overall odds implies greater confidence). If you want, you can check to see if the predicted categories make sense **"
   ]
  },
  {
   "cell_type": "markdown",
   "metadata": {},
   "source": [
    "**Approach:**\n",
    "I used as 'data' : a series with names of columns which have the maximum overall odds and a series top_odds with maximum overall odds values.\n",
    "Using the two series, I constructed a Dataframe with index as the 'URL's"
   ]
  },
  {
   "cell_type": "code",
   "execution_count": 55,
   "metadata": {
    "collapsed": false
   },
   "outputs": [
    {
     "data": {
      "text/html": [
       "<div>\n",
       "<table border=\"1\" class=\"dataframe\">\n",
       "  <thead>\n",
       "    <tr style=\"text-align: right;\">\n",
       "      <th></th>\n",
       "      <th>top_category</th>\n",
       "      <th>top_odds</th>\n",
       "    </tr>\n",
       "  </thead>\n",
       "  <tbody>\n",
       "    <tr>\n",
       "      <th>http://0-101.net</th>\n",
       "      <td>G</td>\n",
       "      <td>2.155963</td>\n",
       "    </tr>\n",
       "    <tr>\n",
       "      <th>http://000.cc</th>\n",
       "      <td>G</td>\n",
       "      <td>1.460583</td>\n",
       "    </tr>\n",
       "    <tr>\n",
       "      <th>http://0000.jp</th>\n",
       "      <td>G</td>\n",
       "      <td>14.488244</td>\n",
       "    </tr>\n",
       "    <tr>\n",
       "      <th>http://000relationships.com</th>\n",
       "      <td>G</td>\n",
       "      <td>5.681060</td>\n",
       "    </tr>\n",
       "    <tr>\n",
       "      <th>http://000vitamins.com</th>\n",
       "      <td>G</td>\n",
       "      <td>3.784982</td>\n",
       "    </tr>\n",
       "    <tr>\n",
       "      <th>http://000webhost.com</th>\n",
       "      <td>G</td>\n",
       "      <td>11.159502</td>\n",
       "    </tr>\n",
       "  </tbody>\n",
       "</table>\n",
       "</div>"
      ],
      "text/plain": [
       "                            top_category   top_odds\n",
       "http://0-101.net                       G   2.155963\n",
       "http://000.cc                          G   1.460583\n",
       "http://0000.jp                         G  14.488244\n",
       "http://000relationships.com            G   5.681060\n",
       "http://000vitamins.com                 G   3.784982\n",
       "http://000webhost.com                  G  11.159502"
      ]
     },
     "execution_count": 55,
     "metadata": {},
     "output_type": "execute_result"
    }
   ],
   "source": [
    "#Making a dataframe#\n",
    "result_75 = DataFrame(data={'top_category':list(pivot_75.idxmax(axis=1).values),'top_odds':list(pivot_75.max(axis=1).values)}, index = list(pivot_75.max(axis=1).index.values)) \n",
    "result_75[:6]"
   ]
  },
  {
   "cell_type": "markdown",
   "metadata": {},
   "source": [
    " \ttop_category \ttop_odds\n",
    "    \n",
    "http://0-101.net \tG \t2.155963\n",
    "\n",
    "http://000.cc \tG \t1.460583\n",
    "\n",
    "http://0000.jp \tG \t14.488244\n",
    "\n",
    "http://000relationships.com \tG \t5.681060\n",
    "\n",
    "http://000vitamins.com \tG \t3.784982\n",
    "\n",
    "http://000webhost.com \tG \t11.159502"
   ]
  },
  {
   "cell_type": "markdown",
   "metadata": {},
   "source": [
    "### Question 9 \n",
    "\n",
    "**Predicted categories using more turks **\n",
    "\n",
    "**Questions 7 and 8 above only considered the ratings of turks who had rated enough gold set URLs, so we were relatively more confident about their accuracies. What happens if we loosen this restriction?**\n",
    "\n",
    "**Repeat the code of Q7 and Q8, but replacing 75% by 25% in the description of Q7 (i.e., we also consider turks who have far fewer gold set ratings).Call this result 25. Now let's see how these two results compare. Create a DataFrame where both the index and the columns are the various categories, and the cells contain the number of urls with these as the top categories according to result 75 and result 25. For example, the cell corresponding to the row category=R and the column category=G would be the number of URLs that were predicted to be R by result 75 but predicted to be G by result 25.\n",
    "Where are the most errors?**\n",
    "\n",
    "**Hint: You might want to use the pd.crosstab function.**"
   ]
  },
  {
   "cell_type": "markdown",
   "metadata": {},
   "source": [
    "**Approach:**\n",
    "Repeating the steps from Question 7 and 8 with 25th percentile cut-off. For the Datasets result_25 and result_75 , I created a column 'url' from the index. Then, I merged both the datasets on 'url'. Lastly, a crosstab on top_category_x and top_category_y will give the corresponding number of urls with these as the top categories according to result 75 and result 25. Most errors are being observed for 'G' category in result_75 which corresponds to 'P' category in result_25."
   ]
  },
  {
   "cell_type": "code",
   "execution_count": 56,
   "metadata": {
    "collapsed": false
   },
   "outputs": [
    {
     "data": {
      "text/html": [
       "<div>\n",
       "<table border=\"1\" class=\"dataframe\">\n",
       "  <thead>\n",
       "    <tr style=\"text-align: right;\">\n",
       "      <th>top_category_y</th>\n",
       "      <th>G</th>\n",
       "      <th>P</th>\n",
       "      <th>R</th>\n",
       "      <th>X</th>\n",
       "    </tr>\n",
       "    <tr>\n",
       "      <th>top_category_x</th>\n",
       "      <th></th>\n",
       "      <th></th>\n",
       "      <th></th>\n",
       "      <th></th>\n",
       "    </tr>\n",
       "  </thead>\n",
       "  <tbody>\n",
       "    <tr>\n",
       "      <th>G</th>\n",
       "      <td>8327</td>\n",
       "      <td>574</td>\n",
       "      <td>186</td>\n",
       "      <td>216</td>\n",
       "    </tr>\n",
       "    <tr>\n",
       "      <th>P</th>\n",
       "      <td>189</td>\n",
       "      <td>328</td>\n",
       "      <td>47</td>\n",
       "      <td>19</td>\n",
       "    </tr>\n",
       "    <tr>\n",
       "      <th>R</th>\n",
       "      <td>21</td>\n",
       "      <td>34</td>\n",
       "      <td>128</td>\n",
       "      <td>25</td>\n",
       "    </tr>\n",
       "    <tr>\n",
       "      <th>X</th>\n",
       "      <td>27</td>\n",
       "      <td>6</td>\n",
       "      <td>26</td>\n",
       "      <td>457</td>\n",
       "    </tr>\n",
       "  </tbody>\n",
       "</table>\n",
       "</div>"
      ],
      "text/plain": [
       "top_category_y     G    P    R    X\n",
       "top_category_x                     \n",
       "G               8327  574  186  216\n",
       "P                189  328   47   19\n",
       "R                 21   34  128   25\n",
       "X                 27    6   26  457"
      ]
     },
     "execution_count": 56,
     "metadata": {},
     "output_type": "execute_result"
    }
   ],
   "source": [
    "## Steps repeated from question 7 ##\n",
    "\n",
    "# finding 25th percentile #\n",
    "turks_25=rater_goodness[rater_goodness.loc[:,'number_ratings']>(rater_goodness.loc[:,'number_ratings'].quantile(0.25))]\n",
    "turks_25.loc[:,'turk']=turks_25.index.values\n",
    "\n",
    "labels_unknown_25=labels_unknown.copy()\n",
    "labels_unknown_25=labels_unknown_25[labels_unknown_25.loc[:,'turk'].isin(list(turks_25.index.values))]\n",
    "\n",
    "merged_25 = pd.merge(labels_unknown_25, turks_25, left_on='turk',right_on='turk')\n",
    "pivot_25 = DataFrame(pd.pivot_table(merged_25,index='url',columns='category',values= 'odds',aggfunc= numpy.prod,fill_value=0))\n",
    "\n",
    "## Steps repeated from Question 8 ##\n",
    "top_category = pivot_25.idxmax(axis=1)\n",
    "top_odds = pivot_25.max(axis=1)\n",
    "result_25 = DataFrame(data={'top_category':list(top_category.values),'top_odds':list(top_odds.values)}, index = list(top_odds.index.values))\n",
    "\n",
    "result_25_copy=result_25.copy()\n",
    "result_25_copy.loc[:,'url']=result_25.index\n",
    "\n",
    "result_75_copy=result_75.copy()\n",
    "result_75_copy.loc[:,'url']=result_75.index\n",
    "\n",
    "#merging the two datasets\n",
    "merged_top_cat = pd.merge(result_75_copy,result_25_copy,left_on='url',right_on='url')\n",
    "\n",
    "#making a dataframe with cross tab results\n",
    "DataFrame(pd.crosstab(merged_top_cat.loc[:,'top_category_x'],merged_top_cat.loc[:,'top_category_y']))\n",
    "\n",
    "## the most errors are : 'P' is being predicted by result_25 and 'G' by result_75"
   ]
  },
  {
   "cell_type": "markdown",
   "metadata": {},
   "source": [
    "top_category_y \tG \tP \tR \tX\n",
    "\n",
    "top_category_x \t\t\t\t\n",
    "\n",
    "G \t8327 \t574 \t186 \t216\n",
    "\n",
    "P \t189 \t328 \t47 \t19\n",
    "\n",
    "R \t21 \t34 \t128 \t25\n",
    "\n",
    "X \t27 \t6 \t26 \t457"
   ]
  }
 ],
 "metadata": {
  "anaconda-cloud": {},
  "kernelspec": {
   "display_name": "Python [Root]",
   "language": "python",
   "name": "Python [Root]"
  },
  "language_info": {
   "codemirror_mode": {
    "name": "ipython",
    "version": 2
   },
   "file_extension": ".py",
   "mimetype": "text/x-python",
   "name": "python",
   "nbconvert_exporter": "python",
   "pygments_lexer": "ipython2",
   "version": "2.7.12"
  }
 },
 "nbformat": 4,
 "nbformat_minor": 0
}
