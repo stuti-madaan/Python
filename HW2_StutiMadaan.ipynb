{
 "cells": [
  {
   "cell_type": "markdown",
   "metadata": {},
   "source": [
    "Question 1: Create a unique name for each restaurant. On the DataFrame created above, add a new column to your DataFrame, called 'RESTAURANT', that combines DBA, BUILDING, STREET, and ZIP-CODE fields. For example, \\WENDY'S 469 FLATBUSH AVENUE 11225\".\n",
    "Print the first 10 values of the RESTAURANT column of your DataFrame.\n",
    "\n",
    "Approach: \n",
    "To solve this problem, I first read the .csv file from the computer using read_csv function from pandas library. Then, I concatenated the values of DBA, BUILDING, STREET and ZIPCODE in to the new column 'RESTAURANT' of the df DataFrame.\n",
    "To print the result of first 10 rows of RESTAURANT column, I selected the column name in square brackets and indexed it to first 10 rows. The result is a series with index 0:9 and corresponding values of RESTAURANT column."
   ]
  },
  {
   "cell_type": "code",
   "execution_count": 16,
   "metadata": {
    "collapsed": false
   },
   "outputs": [
    {
     "name": "stdout",
     "output_type": "stream",
     "text": [
      "Populating the interactive namespace from numpy and matplotlib\n"
     ]
    }
   ],
   "source": [
    "from pandas import Series, DataFrame\n",
    "import pandas as pd \n",
    "%pylab inline"
   ]
  },
  {
   "cell_type": "code",
   "execution_count": 17,
   "metadata": {
    "collapsed": false
   },
   "outputs": [
    {
     "data": {
      "text/plain": [
       "0                    WENDY'S 469 FLATBUSH AVENUE 11225\n",
       "1                    WENDY'S 469 FLATBUSH AVENUE 11225\n",
       "2                    WENDY'S 469 FLATBUSH AVENUE 11225\n",
       "3                    WENDY'S 469 FLATBUSH AVENUE 11225\n",
       "4                    WENDY'S 469 FLATBUSH AVENUE 11225\n",
       "5               TOV KOSHER KITCHEN 97-22 63 ROAD 11374\n",
       "6               TOV KOSHER KITCHEN 97-22 63 ROAD 11374\n",
       "7               TOV KOSHER KITCHEN 97-22 63 ROAD 11374\n",
       "8               TOV KOSHER KITCHEN 97-22 63 ROAD 11374\n",
       "9    BRUNOS ON THE BOULEVARD 8825 ASTORIA BOULEVARD...\n",
       "Name: RESTAURANT, dtype: object"
      ]
     },
     "execution_count": 17,
     "metadata": {},
     "output_type": "execute_result"
    }
   ],
   "source": [
    "df= pd.read_csv('E:/DataAnalytics_programming/NYC_Restaurants.csv',dtype=unicode) # Read .csv file\n",
    "df1=df\n",
    "df1['RESTAURANT']= df1['DBA']+\" \"+df1['BUILDING']+\" \"+df1['STREET']+\" \"+df1['ZIPCODE'] #concatenating\n",
    "df1['RESTAURANT'][:10] #outputting the results"
   ]
  },
  {
   "cell_type": "markdown",
   "metadata": {},
   "source": [
    "Question 2: How many restaurants are included in the data?\n",
    "Careful now:\n",
    "\u000f A \"Subway\" in one particular address (i.e., building, street, zipcode,and boro) counts as one restaurant; don't combine all Subways into one restaurant!\n",
    "\u000f The data can have multiple violations for the same restaurant!\n",
    "\n",
    "Approach:\n",
    "Since the RESTAURANT Column includes the building, Street, Zipcode and Boro; Removing duplicates for the column RESTAURANT2 will give unique values for all the restaurants for all addresses. I am using df.shape function to extract the dimensions of this DataFrame with unique Restaurants. Further, using [0] indicates the first index i.e. number of unique restaurants while leaving out the number of columns(or features of the restaurant) "
   ]
  },
  {
   "cell_type": "code",
   "execution_count": 18,
   "metadata": {
    "collapsed": false
   },
   "outputs": [
    {
     "data": {
      "text/plain": [
       "10114"
      ]
     },
     "execution_count": 18,
     "metadata": {},
     "output_type": "execute_result"
    }
   ],
   "source": [
    "df1['RESTAURANT2']= df1['DBA']+\" \"+df1['BUILDING']+\" \"+df1['STREET']+\" \"+df1['ZIPCODE']+\" \"+df1['BORO']\n",
    "df1.drop_duplicates(subset=\"RESTAURANT2\").shape[0] #extracting the number of unique restaurants"
   ]
  },
  {
   "cell_type": "markdown",
   "metadata": {},
   "source": [
    "Question 3: How many chains are there? Let us define a chain to be the same \n",
    "restaurant name occurring in at least two different (building, street, zipcode) addresses.\n",
    "\n",
    "Approach:\n",
    "I created a dataFrame with unique values based on DBA, Building, street and Zipcode to capture different addresses of different restraunts.\n",
    "Next, I am checking in the resulting dataset which DBAs have more than one different addresses. I have True/False Values for each restaurant which qualify to be a 'chain' or not respectively. using value_counts(), I found out the number of chains that are there."
   ]
  },
  {
   "cell_type": "code",
   "execution_count": 19,
   "metadata": {
    "collapsed": false
   },
   "outputs": [
    {
     "data": {
      "text/plain": [
       "False    8448\n",
       "True      368\n",
       "Name: DBA, dtype: int64"
      ]
     },
     "execution_count": 19,
     "metadata": {},
     "output_type": "execute_result"
    }
   ],
   "source": [
    "df_without_duplicates = df.drop_duplicates(subset=('DBA','BUILDING','STREET','ZIPCODE'))\n",
    "mask = df_without_duplicates['DBA'].value_counts()>1 # True and False would be generated if a DBA is a chain or not\n",
    "mask.value_counts() # this will count the number of individual True and False, thus, giving the number of chains corresponding to True"
   ]
  },
  {
   "cell_type": "markdown",
   "metadata": {},
   "source": [
    "Question 4: Plot a bar graph of the top 20 most popular chains.\n",
    "We already have the chains from the previous problem.\n",
    "\n",
    "Approach:\n",
    "Firstly, I generated a series with the frequency of all Restaurants unique by Address(dataset from previous question). By sorting the 'Names' of restaurants in the descending order of restraunts associated with each one of them, we get a series of frequency in descending order. Then, I chose the top 20 restaurant chain from them and plotted them in the bar graph below.   "
   ]
  },
  {
   "cell_type": "code",
   "execution_count": 20,
   "metadata": {
    "collapsed": false
   },
   "outputs": [
    {
     "data": {
      "text/plain": [
       "<matplotlib.axes._subplots.AxesSubplot at 0xe67e320>"
      ]
     },
     "execution_count": 20,
     "metadata": {},
     "output_type": "execute_result"
    },
    {
     "data": {
      "image/png": "[encoded data removed]",
      "text/plain": [
       "<matplotlib.figure.Figure at 0x9ae3ef0>"
      ]
     },
     "metadata": {},
     "output_type": "display_data"
    }
   ],
   "source": [
    "frequency= df_without_duplicates['DBA'].value_counts()\n",
    "k=frequency.sort_values(ascending=False)[:20] # since we have more than 20 chains, this command will give the top 20 chains\n",
    "k.plot(kind='bar')"
   ]
  },
  {
   "cell_type": "markdown",
   "metadata": {},
   "source": [
    "Question 5: What fraction of all restaurants are chains?\n",
    "\n",
    "Approach:\n",
    "\n",
    "I created a dataset unique by DBA, Building, Street and Zipcode.\n",
    "Creating a series of number of restaurants for each DBA, I created a mask where DBA have more than one restaurants. Using this mask, I created a series of chains (DBA s with more than one Restaurants).\n",
    "Ratio of sum of total restaurants in this series to the total number of unique restaurants gives the final answer."
   ]
  },
  {
   "cell_type": "code",
   "execution_count": 21,
   "metadata": {
    "collapsed": false
   },
   "outputs": [
    {
     "data": {
      "text/plain": [
       "0.16472216729286138"
      ]
     },
     "execution_count": 21,
     "metadata": {},
     "output_type": "execute_result"
    }
   ],
   "source": [
    "df_without_duplicates = df.drop_duplicates(subset=('DBA','BUILDING','STREET','ZIPCODE'))\n",
    "series_of_DBA= df_without_duplicates['DBA'].value_counts() # output is a series with DBA name as index and count as values\n",
    "mask = series_of_DBA>1 # creating a mask where values >1\n",
    "series_updated= series_of_DBA[mask] # using the mask to extract a series with index as DBA and values as count of restaurants\n",
    "float(series_updated.sum())/float(len(df_without_duplicates)) # Ratio of total restaurants that are chains to total restaurants"
   ]
  },
  {
   "cell_type": "markdown",
   "metadata": {},
   "source": [
    "Question 6: Plot the number of non-chain restaurants in each boro. First, we need to figure out all the non-chain restaurants, then select out only those restaurants, and finally plot the number of such restaurants by boro. Make sure to look at the plot; we don't want to see... oh... the \"missing\" boro.\n",
    "\n",
    "Approach:\n",
    "I created a Series : chains which contains the numbers of retraunts for all DBA's. Then, Series chains1 is created from this series such that the number of restraunts is equal to one for a DBA(to pick up non-chain restraunts). \n",
    "Next, using the index of this new series as list, I checked whether any of the rows from the refined data (data without duplicates) is present in that list. If yes, I am reading the corrsponding row from the df_without_duplicates into final_df.\n",
    "Picking the rows from final_df where 'BORO' is not null.\n",
    "Now, to remove the 'Missing' entry of 'BORO' in the data, I have created a mask, using which I set all such entries in the dataset to NaN\n",
    "Finally ,plotting the curve with number of restraunts against BORO. "
   ]
  },
  {
   "cell_type": "code",
   "execution_count": 22,
   "metadata": {
    "collapsed": false
   },
   "outputs": [
    {
     "data": {
      "text/plain": [
       "<matplotlib.axes._subplots.AxesSubplot at 0xc697198>"
      ]
     },
     "execution_count": 22,
     "metadata": {},
     "output_type": "execute_result"
    },
    {
     "data": {
      "image/png": "[encoded data removed]",
      "text/plain": [
       "<matplotlib.figure.Figure at 0xc1e0e10>"
      ]
     },
     "metadata": {},
     "output_type": "display_data"
    }
   ],
   "source": [
    "chains= df_without_duplicates['DBA'].value_counts()\n",
    "chains1=chains[chains==1] #create a series with non chain restaurants\n",
    "final_df=df_without_duplicates[df_without_duplicates['DBA'].isin(list(chains1.index))] # DataFrame for non chain restaurants\n",
    "final_df=final_df[final_df['BORO'].notnull()] # removing Null values of Boro if any\n",
    "\n",
    "mask = (final_df['BORO'] == 'Missing') # mask for Boro=\"Missing\"\n",
    "final_df.ix[mask, 'BORO'] = np.nan  # assigning NAs to all 'Missing' BOROs \n",
    "\n",
    "final_df['BORO'].value_counts().plot(kind='bar') # plot the frequency By Boro ( this will automatically remove NA values appended above)"
   ]
  },
  {
   "cell_type": "markdown",
   "metadata": {},
   "source": [
    "Question 7: Plot the fraction of non-chain restaurants in each boro. \n",
    "The boro with the most non-chain restaurants might just be the boro with the most restaurants in general. If we want to find the boro that attracts the most \"independent\" restauranteurs, we must divide the number of non-chain restaurants by the total number of restaurants in the boro. Plot this.    \n",
    "Is the boro with the most independent restaurants also the one with the highest ratio of independent restaurants?\n",
    "    \n",
    "Approach:\n",
    "Removing the missing BORO values from the overall dataset, divide the number of non chain restraunts to the total restraunts in each BORO and plot the same. Manhattan is the boro with the most independent restaurants while Brooklyn is the one with the maximum fraction of most independent restaurants."
   ]
  },
  {
   "cell_type": "code",
   "execution_count": 23,
   "metadata": {
    "collapsed": false
   },
   "outputs": [
    {
     "data": {
      "text/plain": [
       "<matplotlib.axes._subplots.AxesSubplot at 0xcd03da0>"
      ]
     },
     "execution_count": 23,
     "metadata": {},
     "output_type": "execute_result"
    },
    {
     "data": {
      "image/png": "[encoded data removed]",
      "text/plain": [
       "<matplotlib.figure.Figure at 0xe82e6a0>"
      ]
     },
     "metadata": {},
     "output_type": "display_data"
    }
   ],
   "source": [
    "df_without_duplicates1=df_without_duplicates[df_without_duplicates['BORO'].notnull()]\n",
    "\n",
    "mask2 = (df_without_duplicates1['BORO'] == 'Missing')\n",
    "df_without_duplicates1.ix[mask2, 'BORO'] = np.nan \n",
    "((final_df['BORO'].value_counts())/(df_without_duplicates1['BORO'].value_counts())).plot(kind='bar')\n",
    "# numerator is the frequency of non chain restaurants by Boro : final_df data has been taken from previous question for non chain restaurants\n",
    "# denominator is the frequency of all restaurants by Boro"
   ]
  },
  {
   "cell_type": "markdown",
   "metadata": {},
   "source": [
    "Question 8: Plot the popularity of cuisines. Which cuisines are the most well-represented among all restaurants? Plot the popularity of the top 20 cuisines. Again, be careful in your counting: remember that the same restaurant can have multiple violations!\n",
    "\n",
    "Approach:\n",
    "With data having unique restaurants by location, I calculated Value Counts for each Cuisine Description, which I sorted based in decreasing order, selected top 20 and plotted them in the bar chart below."
   ]
  },
  {
   "cell_type": "code",
   "execution_count": 24,
   "metadata": {
    "collapsed": false
   },
   "outputs": [
    {
     "data": {
      "text/plain": [
       "<matplotlib.axes._subplots.AxesSubplot at 0xd024860>"
      ]
     },
     "execution_count": 24,
     "metadata": {},
     "output_type": "execute_result"
    },
    {
     "data": {
      "image/png": "[encoded data removed]",
      "text/plain": [
       "<matplotlib.figure.Figure at 0xb83e0f0>"
      ]
     },
     "metadata": {},
     "output_type": "display_data"
    }
   ],
   "source": [
    "df_without_duplicates['CUISINE DESCRIPTION'].value_counts().sort_values(ascending=False)[:20].plot(kind='bar')"
   ]
  },
  {
   "cell_type": "markdown",
   "metadata": {
    "collapsed": true
   },
   "source": [
    "Question 9: Plot the cuisines among restaurants which never got cited for violations. Ideally, you should explore and see what happens when there is no violation, but here I will just tell you: the 'VIOLATION CODE' field is missing.\n",
    "\u000f Select only the 'RESTAURANT' and 'CUISINE DESCRIPTION' columns of the DataFrame (we created the 'RESTAURANT' field in an earlier question).\n",
    "\u000f Select the instances where a restaurant did not get cited.\n",
    "\u000f Among these instances, how frequent is each of the cuisines?\n",
    "Plot the frequencies of the top-20 among these cuisines.\n",
    "\n",
    "Approach:\n",
    "In the original dataset, I first created a variable called 'Flag Violation' that takes on the value 1 for any VIOLATION CODE that has been cited.i.e. for Null Violation Codes, the flag equals zero. Then I generated a pivot such that the resulting values for Flag_violation are maximum value for all rows corresponding to one particular \"RESTAURANT\". This will essentially capture the information whether or not any REATAURANT has been cited for violations EVER. Next using the pivot, I created a mask for all those restaurants which have never been citrd for any Violations. Use this mask with unique Restaurant dataset in order to extract information on CUISINE for it. Then, I plotted the count for Cuisines."
   ]
  },
  {
   "cell_type": "code",
   "execution_count": 25,
   "metadata": {
    "collapsed": false
   },
   "outputs": [],
   "source": [
    "df5=df1\n",
    "#creating a flag for every instance a restaurant got cited for violations\n",
    "df5.ix[df5['VIOLATION CODE'].isnull(),'Flag_violation']=0\n",
    "df5.ix[df5['VIOLATION CODE'].notnull(),'Flag_violation']=1\n",
    "\n",
    "#create a pivot table to find the maximum of the Violation flag for every Restaurant and convert it into a DataFrame\n",
    "series_violated = pd.DataFrame(pd.pivot_table(df5,\n",
    "                                             index='RESTAURANT',\n",
    "                                             values = 'Flag_violation',\n",
    "                                              aggfunc=max,\n",
    "                                             fill_value=0))\n",
    "\n",
    "#create a mask where the Flag_violation column is zero i.e. the restaurant never got cited for violations\n",
    "mask=series_violated['Flag_violation']== 0\n",
    "#use the mask to get a new dataframe with restaurants which never got cited\n",
    "never_violated = series_violated[mask]\n",
    "\n",
    "#From the original dataset ,extract Restaurant, Cuisine description unique on these two columns\n",
    "df_9 = df1.drop_duplicates(subset=('RESTAURANT','CUISINE DESCRIPTION'))[['RESTAURANT','CUISINE DESCRIPTION']]\n",
    "\n",
    "#extract all columns from the dataset created above (df_9) the restraunts which never got cited for violations\n",
    "merged_data = df_9[df_9['RESTAURANT'].isin(list(never_violated.index))]"
   ]
  },
  {
   "cell_type": "code",
   "execution_count": 26,
   "metadata": {
    "collapsed": false
   },
   "outputs": [
    {
     "data": {
      "text/plain": [
       "<matplotlib.axes._subplots.AxesSubplot at 0xd32be80>"
      ]
     },
     "execution_count": 26,
     "metadata": {},
     "output_type": "execute_result"
    },
    {
     "data": {
      "image/png": "[encoded data removed]",
      "text/plain": [
       "<matplotlib.figure.Figure at 0xd37cbe0>"
      ]
     },
     "metadata": {},
     "output_type": "display_data"
    }
   ],
   "source": [
    "merged_data['CUISINE DESCRIPTION'].value_counts().sort_values(ascending=False)[:20].plot(kind='bar')\n",
    "# counting the frequency, corting it and plotting the top 20 "
   ]
  },
  {
   "cell_type": "markdown",
   "metadata": {},
   "source": [
    "Question 10:\n",
    "What cuisines tend to be the \"cleanest\"?\n",
    "\u000f Select all cuisines for which there were at least 20 restaurants representing that cuisine.\n",
    "\u000f For each such cuisine, compute the ratio of inspections where the violation code is missing (so the inspection passed) versus the total number of rows for that cuisine. (This is just the ratio of counts in the previous two questions.)\n",
    "\u000f Find the top-10 cuisines with the highest ratios; these are that cuisines\n",
    "whose restaurants are \"most likely to be clean.\" (Hint: Check out the \"sort values\" method for Series).\n",
    "\n",
    "Approach:\n",
    "Firstly, I created a Series with count of unique Restaurants for each Cuisine. From this series, I selected just the cuisines for which count >=20. \n",
    "Next, I filtered out the restaurants (which never got cited for violations (from Q9)) based on the list of cuisines description in cuisines_rest Series.\n",
    "Similarly, I filtered out the restaurants (from Q8) based on the list of cuisines description in cuisines_rest Series.\n",
    "\n",
    "Dividing the .value_counts() obtined from the two tables will give the required ratio, which needs to be sorted in descending order and the first 10 elements of the Series are the result."
   ]
  },
  {
   "cell_type": "code",
   "execution_count": 118,
   "metadata": {
    "collapsed": false
   },
   "outputs": [
    {
     "data": {
      "text/plain": [
       "Soul Food                        0.090909\n",
       "Vietnamese/Cambodian/Malaysia    0.062500\n",
       "Other                            0.058252\n",
       "Soups & Sandwiches               0.047619\n",
       "Continental                      0.047619\n",
       "Barbecue                         0.047619\n",
       "Asian                            0.041096\n",
       "Chinese                          0.038251\n",
       "Greek                            0.036364\n",
       "Peruvian                         0.035714\n",
       "Name: CUISINE DESCRIPTION, dtype: float64"
      ]
     },
     "execution_count": 118,
     "metadata": {},
     "output_type": "execute_result"
    }
   ],
   "source": [
    "# creating a Series for cuisines with more than 20 restaurants\n",
    "cuisines_rest = df_without_duplicates['CUISINE DESCRIPTION'].value_counts()\n",
    "cuisines_rest = cuisines_rest[cuisines_rest>20]\n",
    "\n",
    "# list of restaurants with the cuisines in 'cuisines_rest' and that never got cited for violations (from Q9)\n",
    "numerator = merged_data[merged_data['CUISINE DESCRIPTION'].isin(list(cuisines_rest.index))]\n",
    "\n",
    "# list of restaurants with the cuisines in 'cuisines_rest' (from Q8)\n",
    "denominator = df_without_duplicates[df_without_duplicates['CUISINE DESCRIPTION'].isin(list(cuisines_rest.index.values))]\n",
    "\n",
    "#calculating ratio, sorting them and printing top 10 ratios\n",
    "(numerator['CUISINE DESCRIPTION'].value_counts()/denominator['CUISINE DESCRIPTION'].value_counts()).sort_values(ascending=False)[:10]"
   ]
  },
  {
   "cell_type": "markdown",
   "metadata": {},
   "source": [
    "Question 11: What are the most common violations in each borough? Create a table of the number of times each violation description was observed in each borough, and figure out the most common violation description for each borough.\n",
    "To create the table, check out the crosstab function. We will see a more general version of this when we discuss groupby in class.\n",
    "Once you do have the table, you will still need to find the most common violation description for each borough.\n",
    "\n",
    "Approach:\n",
    "First, I used the crosstab function to find frequencies of each violation code by each of the buroughs. Using idxmax() function in data frame, I could find out the COde with Maximum Violations for each BORO. Merging this data set with original dataset on VIOLATION CODE, I extracted out the VIOLATION DESCRIPTION AS WELL"
   ]
  },
  {
   "cell_type": "code",
   "execution_count": 28,
   "metadata": {
    "collapsed": false
   },
   "outputs": [
    {
     "name": "stdout",
     "output_type": "stream",
     "text": [
      "BORO\n",
      "BRONX            Non-food contact surface improperly constructe...\n",
      "BROOKLYN         Non-food contact surface improperly constructe...\n",
      "MANHATTAN        Non-food contact surface improperly constructe...\n",
      "QUEENS           Non-food contact surface improperly constructe...\n",
      "STATEN ISLAND    Non-food contact surface improperly constructe...\n",
      "dtype: object\n"
     ]
    }
   ],
   "source": [
    "df_unique_violation=df1.drop_duplicates(subset=('RESTAURANT','VIOLATION CODE')) # unique on Restaurant and Violation\n",
    "freq_table= pd.crosstab(df_unique_violation['VIOLATION DESCRIPTION'], df_unique_violation['BORO']) # index is Violation description and columns are 'Boro'\n",
    "del freq_table['Missing'] # deleting the column with 'Missing' Boro\n",
    "print freq_table.idxmax() # print the index with maximum value for each Boro"
   ]
  },
  {
   "cell_type": "markdown",
   "metadata": {},
   "source": [
    "Question 12: What are the most common violations per borough,after normalizing for the relative abundance of each violation?\n",
    "Hopefully, the answer to the previous question left you unsatisfied, because some violations are just very common, irrespective of borough. A better approach would be to normalize the violation counts, as follows.\n",
    "\u000f Get overall frequencies: Figure out how common each violation is, overthe entire dataset; let's call this violationFrequency.\n",
    "\u000f Normalize: Consider the table of number of violations by boro that you created for the previous question. For each borough, divide the number of violations of each type by the total number of violations for that type; i.e., divide the series of violations by violationFrequency. We want to do this for each borough.\n",
    "\u000f Find the biggest violations: Now, after this normalization, for each borough, figure out the most common violation description.\n",
    "\n",
    "Approach:\n",
    "Removing all the values for missing BOROs, I created a frequency table between BOROs and VIOLATIONS. Next, I created a series with total counts for each of the violations to be used for standardization. I added this series as a column to the data frame with frequencies for ease of operation. \n",
    "Then, I built a function that would divide all rows of the selected column of the dataframe by the corresponding row of the 'VIOLATION FREQ' column and thus, generating standardized results in the whole table.\n",
    "Finally, using idxmax() function on the dataset produces the desired output."
   ]
  },
  {
   "cell_type": "code",
   "execution_count": 29,
   "metadata": {
    "collapsed": false
   },
   "outputs": [
    {
     "data": {
      "text/plain": [
       "BORO\n",
       "BRONX                                   Unprotected food re-served.\n",
       "BROOKLYN          Precooked potentially hazardous food from comm...\n",
       "MANHATTAN         Out-of package sale of tobacco products observed.\n",
       "QUEENS            Caloric content range (minimum to maximum) not...\n",
       "STATEN ISLAND     Eggs found dirty/cracked; liquid, frozen or po...\n",
       "VIOLATION FREQ    Non-food contact surface improperly constructe...\n",
       "dtype: object"
      ]
     },
     "execution_count": 29,
     "metadata": {},
     "output_type": "execute_result"
    }
   ],
   "source": [
    "df2=df_unique_violation[df_unique_violation['BORO']!=\"Missing\"] # removing missing Boros\n",
    "freq_table= pd.crosstab(df2['VIOLATION DESCRIPTION'], df2['BORO']) # crosstab results in Violation description as indices and Boro as columns\n",
    "violationFrequency = df2['VIOLATION DESCRIPTION'].value_counts() # frequency of restaurants by Violation description\n",
    "\n",
    "#create a new table with additional column violation frequency which has total number of instances a restaurant has been violated by that violation description\n",
    "freq_table2 = freq_table\n",
    "freq_table2['VIOLATION FREQ']= violationFrequency\n",
    "\n",
    "\n",
    "def normalize_func(boro):\n",
    "    '''create a function that divides each row by the corresponding number in the VIOLATION FREQ Column for the selected BORO'''\n",
    "    freq_table2[boro]= freq_table2[boro]/freq_table['VIOLATION FREQ']\n",
    "    return \n",
    "\n",
    "normalize_func('BRONX')\n",
    "normalize_func('BROOKLYN')\n",
    "normalize_func('MANHATTAN')\n",
    "normalize_func('QUEENS')\n",
    "normalize_func('STATEN ISLAND')\n",
    "freq_table2.idxmax() #select the index with maximum value for each BORO(each column)"
   ]
  },
  {
   "cell_type": "markdown",
   "metadata": {},
   "source": [
    "Question 13: How many phone area codes correspond to a single zipcode? The first three digits of the restaurant phone numbers are their area codes. The area codes do not generally align with zip codes, but some area codes are only for a single zip code. You must figure out how many area codes have this property.\n",
    "\u000f To extract the first 3 characters of the phone number, recall that strings are pretty similar to lists.\n",
    "\n",
    "Approach:\n",
    "I created a function that would extract the first three characters of a string. Using this, I created the column 'AREA CODES'. Then, I created a data frame that is unique by ZIPCODES and AREA Codes. \n",
    "Since the objective of the question is to find the number of AREA CODES that are unique by ZIPCODE, I created a mask such that the value_counts() should equal to one for an AREA CODE. This essentially means that in a dataset with unique AREA CODE-ZIPCODE Combinations, there is just one entry for a unique AREA CODE. Thus, the area code is unique to some ZIPCODE. Value_counts() on this mask gives me 34 as the number of AREA CODES unique to ZIPCODES"
   ]
  },
  {
   "cell_type": "code",
   "execution_count": 42,
   "metadata": {
    "collapsed": false
   },
   "outputs": [
    {
     "data": {
      "text/plain": [
       "True     34\n",
       "False    22\n",
       "Name: AREA CODES, dtype: int64"
      ]
     },
     "execution_count": 42,
     "metadata": {},
     "output_type": "execute_result"
    }
   ],
   "source": [
    "#function to return first three characters of a string\n",
    "def area_code(s):\n",
    "    '''Extracting the first 3 characters of the string'''\n",
    "    return s[:3]\n",
    "\n",
    "#Applying the function to all elements of Phone column of the data frame with Unique Restaurants\n",
    "df_without_duplicates['AREA CODES'] = df_without_duplicates['PHONE'].map(area_code) \n",
    "\n",
    "#creating dataframe unique by Area code and ZIPCODE\n",
    "zipcode_areacode = df_without_duplicates.drop_duplicates(subset=('ZIPCODE','AREA CODES'))[['ZIPCODE','AREA CODES']]\n",
    "\n",
    "# .value_counts() function will give a series having all the area codes and count of corresponding zipcodes its associated to\n",
    "#following mask will give True for Area codes which are related to just 1 zipcode\n",
    "mask= zipcode_areacode['AREA CODES'].value_counts()==1\n",
    "\n",
    "#ounting the number of True and False. Count of True is our answer\n",
    "mask.value_counts()"
   ]
  },
  {
   "cell_type": "markdown",
   "metadata": {},
   "source": [
    "Question 14: Find common misspellings of street names Sometimes, it's Avenue, and sometimes, it's Ave. We will try to come up with an automated way to find common misspellings. The idea is the following: if Ave and Avenue are the same, they should show up often in similar-sounding street names, e.g., Lexington Ave and Lexington Avenue.\n",
    "\n",
    "(a) Create a new column, called STREET TYPE, which is the the last word in the name of the street. For example, if the street is \"Astoria Boulevard\", the street type should be \"Boulevard\".\n",
    "\n",
    "Approach :\n",
    "\n",
    "Using Regular expressions, I creates lists of words in each STREET and extracted the last word from the resulting list.\n",
    "I created a new column STREET TYPE and added the return of the function in it"
   ]
  },
  {
   "cell_type": "code",
   "execution_count": 41,
   "metadata": {
    "collapsed": false
   },
   "outputs": [],
   "source": [
    "data1= df_without_duplicates\n",
    "import re\n",
    "def last_word(s):\n",
    "    '''function to extract the last word'''\n",
    "    l=[]\n",
    "    for i in re.split('\\W',s.upper()):  # identifies alphanumeric, digits and underscores and displays blank for the rest \n",
    "        if i!=\"\":\n",
    "            l.append(i)\n",
    "    return l[(len(l)-1)]\n",
    "\n",
    "#Applying function to all elements in STREET Column\n",
    "data1['STREET TYPE']=data1['STREET'].map(last_word)\n"
   ]
  },
  {
   "cell_type": "markdown",
   "metadata": {},
   "source": [
    "(b) Create another column, called STREET BASE, which contains everything but the last word in the name of the street. For example, if the street is \"Astoria Boulevard\", the street base should be \"Astoria\".\n",
    "\n",
    "(c) Create a third column, called STREET BASE & ZIP, that combines the street base and the zipcode.\n",
    "\n",
    "Approach :\n",
    "\n",
    "Using Regular expressions, I creates lists of words in each STREET and extracted all except last word from the resulting list. converting the resulting list into a string, I created a new column STREET TYPE and added the return of the function in it.\n",
    "Then, I concatenated the STREET BASE with ZIPCODE usinng \"+\""
   ]
  },
  {
   "cell_type": "code",
   "execution_count": 40,
   "metadata": {
    "collapsed": false
   },
   "outputs": [],
   "source": [
    "def not_last_word(s):\n",
    "    '''Function to extract all but the last word of a string'''\n",
    "    l=[]\n",
    "    for i in re.split('\\W',s.upper()):  # identifies alphanumeric, digits and underscores and displays blank for the rest \n",
    "        if i!=\"\":\n",
    "            l.append(i)\n",
    "    return ', '.join(l[0:len(l)-1])\n",
    "\n",
    "#applying function on all elements of the STREET Column\n",
    "data1['STREET BASE']=data1['STREET'].map(not_last_word)\n",
    "\n",
    "#Concatenate street base and zipcode\n",
    "data1['STREET BASE & ZIP']= data1['STREET BASE'] + \" \" + data1['ZIPCODE']"
   ]
  },
  {
   "cell_type": "markdown",
   "metadata": {},
   "source": [
    "(d)Create a table containing just these three columns, and remove any duplicates or instances where street base is empty. This table now contains unique street names, along with the street type.\n",
    "\n",
    "Approach:\n",
    "\n",
    "Removed duplicates from the resulting list. Also, checked if any of the STREET BASE is null or not"
   ]
  },
  {
   "cell_type": "code",
   "execution_count": 33,
   "metadata": {
    "collapsed": false
   },
   "outputs": [],
   "source": [
    "#unique rows based on street type, base and street base & zipcode\n",
    "new_table = data1.drop_duplicates(subset=('STREET TYPE','STREET BASE','STREET BASE & ZIP'))[['STREET TYPE','STREET BASE','STREET BASE & ZIP']]\n",
    "\n",
    "#remove the nulls\n",
    "new_table=new_table[(new_table['STREET BASE'].notnull())]\n",
    "\n",
    "# remove the blanks as well\n",
    "new_table=new_table[(new_table['STREET BASE'] != \"\")]"
   ]
  },
  {
   "cell_type": "markdown",
   "metadata": {},
   "source": [
    "(e) Merge this table with itself, on the STREET BASE & ZIP column. Thus, in the new merged tabled, we will have two STREET TYPE fields for each street base and zipcode. For example, if both Lexington Ave and Lexington Avenue exist in the same zipcode, we will get a row for the street base Lexington and the two street types Ave and Avenue.\n",
    "\n",
    "Approach:\n",
    "\n",
    "Merging the table with itself using pandas.merge() function on STREET BASE & ZIP Key."
   ]
  },
  {
   "cell_type": "code",
   "execution_count": 34,
   "metadata": {
    "collapsed": false
   },
   "outputs": [
    {
     "data": {
      "text/html": [
       "<div>\n",
       "<table border=\"1\" class=\"dataframe\">\n",
       "  <thead>\n",
       "    <tr style=\"text-align: right;\">\n",
       "      <th></th>\n",
       "      <th>STREET TYPE_x</th>\n",
       "      <th>STREET BASE_x</th>\n",
       "      <th>STREET BASE &amp; ZIP</th>\n",
       "      <th>STREET TYPE_y</th>\n",
       "      <th>STREET BASE_y</th>\n",
       "    </tr>\n",
       "  </thead>\n",
       "  <tbody>\n",
       "    <tr>\n",
       "      <th>0</th>\n",
       "      <td>AVENUE</td>\n",
       "      <td>FLATBUSH</td>\n",
       "      <td>FLATBUSH 11225</td>\n",
       "      <td>AVENUE</td>\n",
       "      <td>FLATBUSH</td>\n",
       "    </tr>\n",
       "    <tr>\n",
       "      <th>1</th>\n",
       "      <td>AVENUE</td>\n",
       "      <td>FLATBUSH</td>\n",
       "      <td>FLATBUSH 11225</td>\n",
       "      <td>AVE</td>\n",
       "      <td>FLATBUSH</td>\n",
       "    </tr>\n",
       "    <tr>\n",
       "      <th>2</th>\n",
       "      <td>AVE</td>\n",
       "      <td>FLATBUSH</td>\n",
       "      <td>FLATBUSH 11225</td>\n",
       "      <td>AVENUE</td>\n",
       "      <td>FLATBUSH</td>\n",
       "    </tr>\n",
       "  </tbody>\n",
       "</table>\n",
       "</div>"
      ],
      "text/plain": [
       "  STREET TYPE_x STREET BASE_x STREET BASE & ZIP STREET TYPE_y STREET BASE_y\n",
       "0        AVENUE      FLATBUSH    FLATBUSH 11225        AVENUE      FLATBUSH\n",
       "1        AVENUE      FLATBUSH    FLATBUSH 11225           AVE      FLATBUSH\n",
       "2           AVE      FLATBUSH    FLATBUSH 11225        AVENUE      FLATBUSH"
      ]
     },
     "execution_count": 34,
     "metadata": {},
     "output_type": "execute_result"
    }
   ],
   "source": [
    "merged_table = pd.merge(new_table, new_table, left_on = \"STREET BASE & ZIP\",right_on =\"STREET BASE & ZIP\") # merge operation\n",
    "merged_table[:3]"
   ]
  },
  {
   "cell_type": "markdown",
   "metadata": {},
   "source": [
    "(f)From the merged table, select only the rows where the street types are different.\n",
    "\n",
    "Approach: \n",
    "\n",
    "From the resulting dataset, keep only those rows, for which different street names have been observed while removing the rest"
   ]
  },
  {
   "cell_type": "code",
   "execution_count": 35,
   "metadata": {
    "collapsed": false
   },
   "outputs": [
    {
     "data": {
      "text/html": [
       "<div>\n",
       "<table border=\"1\" class=\"dataframe\">\n",
       "  <thead>\n",
       "    <tr style=\"text-align: right;\">\n",
       "      <th></th>\n",
       "      <th>STREET TYPE_x</th>\n",
       "      <th>STREET BASE_x</th>\n",
       "      <th>STREET BASE &amp; ZIP</th>\n",
       "      <th>STREET TYPE_y</th>\n",
       "      <th>STREET BASE_y</th>\n",
       "    </tr>\n",
       "  </thead>\n",
       "  <tbody>\n",
       "    <tr>\n",
       "      <th>1</th>\n",
       "      <td>AVENUE</td>\n",
       "      <td>FLATBUSH</td>\n",
       "      <td>FLATBUSH 11225</td>\n",
       "      <td>AVE</td>\n",
       "      <td>FLATBUSH</td>\n",
       "    </tr>\n",
       "    <tr>\n",
       "      <th>2</th>\n",
       "      <td>AVE</td>\n",
       "      <td>FLATBUSH</td>\n",
       "      <td>FLATBUSH 11225</td>\n",
       "      <td>AVENUE</td>\n",
       "      <td>FLATBUSH</td>\n",
       "    </tr>\n",
       "    <tr>\n",
       "      <th>5</th>\n",
       "      <td>ROAD</td>\n",
       "      <td>63</td>\n",
       "      <td>63 11374</td>\n",
       "      <td>DRIVE</td>\n",
       "      <td>63</td>\n",
       "    </tr>\n",
       "  </tbody>\n",
       "</table>\n",
       "</div>"
      ],
      "text/plain": [
       "  STREET TYPE_x STREET BASE_x STREET BASE & ZIP STREET TYPE_y STREET BASE_y\n",
       "1        AVENUE      FLATBUSH    FLATBUSH 11225           AVE      FLATBUSH\n",
       "2           AVE      FLATBUSH    FLATBUSH 11225        AVENUE      FLATBUSH\n",
       "5          ROAD            63          63 11374         DRIVE            63"
      ]
     },
     "execution_count": 35,
     "metadata": {},
     "output_type": "execute_result"
    }
   ],
   "source": [
    "merged_table=merged_table[merged_table['STREET TYPE_x']!= merged_table['STREET TYPE_y']] #keeping only non equal values of both street types\n",
    "merged_table[:3]"
   ]
  },
  {
   "cell_type": "markdown",
   "metadata": {},
   "source": [
    "(g) Now, do a cross-tabulation of the two distinct street types (check out the crosstab function in Pandas). This gives us the number of times Ave and Avenue were used with the same STREET BASE & ZIP.\n",
    "\n",
    "(h) From this cross-tabulation table, find the most commonly street type that occurs with each of the following: AVE, ST, RD, PL, BOULEARD, and BULEVARD.\n",
    "\n",
    "Approach:\n",
    "\n",
    "Doing a crosstab() on the STREET TYPEs will give the frequencies of different 'STREET TYPEs'that have been used.\n",
    "Then, by finding the maximum of the columns, I extracted the most commonly occuring street types for: AVE, ST, RD, PL, BOULEARD, and BULEVARD."
   ]
  },
  {
   "cell_type": "code",
   "execution_count": 36,
   "metadata": {
    "collapsed": false
   },
   "outputs": [],
   "source": [
    "ct_result= pd.crosstab(merged_table['STREET TYPE_x'],merged_table['STREET TYPE_y']) # making a crosstab for both street names"
   ]
  },
  {
   "cell_type": "code",
   "execution_count": 37,
   "metadata": {
    "collapsed": false
   },
   "outputs": [
    {
     "name": "stdout",
     "output_type": "stream",
     "text": [
      "AVE: AVENUE\n",
      "ST: STREET\n",
      "RD: ROAD\n",
      "PL: PLACE\n",
      "BOULEARD: BLVD\n",
      "BULEVARD: BLVD\n"
     ]
    }
   ],
   "source": [
    "#AVE, ST, RD, PL, BOULEARD, and BULEVARD\n",
    "#following will give the most commonly used street type (or phrase) being used for each one of the above.\n",
    "print 'AVE'+\": \"+ct_result['AVE'].idxmax()\n",
    "print 'ST'+\": \"+ct_result['ST'].idxmax()\n",
    "print 'RD'+\": \"+ct_result['RD'].idxmax()\n",
    "print 'PL'+\": \"+ct_result['PL'].idxmax()\n",
    "print 'BOULEARD'+\": \"+ct_result['BOULEARD'].idxmax()\n",
    "print 'BULEVARD'+\": \"+ct_result['BULEVARD'].idxmax()\n"
   ]
  }
 ],
 "metadata": {
  "anaconda-cloud": {},
  "kernelspec": {
   "display_name": "Python [Root]",
   "language": "python",
   "name": "Python [Root]"
  },
  "language_info": {
   "codemirror_mode": {
    "name": "ipython",
    "version": 2
   },
   "file_extension": ".py",
   "mimetype": "text/x-python",
   "name": "python",
   "nbconvert_exporter": "python",
   "pygments_lexer": "ipython2",
   "version": "2.7.12"
  }
 },
 "nbformat": 4,
 "nbformat_minor": 0
}
